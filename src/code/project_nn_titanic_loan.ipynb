{
 "cells": [
  {
   "cell_type": "code",
   "execution_count": 2,
   "id": "050b62ab",
   "metadata": {},
   "outputs": [],
   "source": [
    "import numpy as np, pandas as pd\n",
    "from matplotlib import pyplot as plt\n",
    "\n",
    "class NeuralNetwork:\n",
    "    \n",
    "    def __init__(self, no_of_layers = 3, no_of_nodes = [1, 2, 1]):\n",
    "        self.no_of_layers = no_of_layers\n",
    "        self.no_of_nodes = no_of_nodes\n",
    "        self.reg_lambda = 0.1\n",
    "        self.learning_rate = 1.0\n",
    "        self.epochs = 200\n",
    "        self.initiate_network()\n",
    "        self.print = False\n",
    "\n",
    "    # Initializing all the weights \n",
    "    # np.random.randn() - normal distribution with mean = 0 and variance = 1\n",
    "    def initiate_network(self):\n",
    "        parameters = []\n",
    "        for layer in range(self.no_of_layers-1):\n",
    "            weight_matrix = np.random.randn(self.no_of_nodes[layer+1], self.no_of_nodes[layer]+1)\n",
    "            parameters.append(weight_matrix)\n",
    "        self.parameters = parameters\n",
    "\n",
    "    \n",
    "    def sigmoid(self, x):\n",
    "        return 1/(1 + np.exp(-x))\n",
    "    \n",
    "    \n",
    "    # For loop to iterate over hidden layers.\n",
    "    # np.matmul() - to compute all the forward operations.\n",
    "    def feed_forward(self, x):\n",
    "        activations = []\n",
    "        a = np.append(1, x)\n",
    "        for layer in range(self.no_of_layers-1):\n",
    "            activations.append(a)\n",
    "            z = np.matmul(self.parameters[layer], a)\n",
    "            activation = self.sigmoid(z)\n",
    "            a = np.append(1, activation)\n",
    "        activations.append(activation)\n",
    "        if self.print:\n",
    "            print(\"--------------------Activations--------------------\")\n",
    "            for a in activations:\n",
    "                print(a)\n",
    "            print()\n",
    "        return activation\n",
    "    \n",
    "    \n",
    "    # np.delete() - to remove bias weights in cost calculation\n",
    "    def compute_cost(self, data):\n",
    "        cost = 0\n",
    "        n = len(data)\n",
    "        for x, y in data:\n",
    "            f = self.feed_forward(x)\n",
    "            j = -(y * np.log(f + np.finfo(float).eps) + (1-np.array(y)) * np.log(1-f+np.finfo(float).eps))\n",
    "            cost += (np.sum(np.nan_to_num(j)) / n)\n",
    "        reg_cost = 0.5*(1/n)*sum(np.sum(np.square(np.delete(w_layer, [0]*len(w_layer), axis=1))) for w_layer in self.parameters)\n",
    "        total_cost = (cost + self.reg_lambda * reg_cost)\n",
    "        if self.print:\n",
    "            print(\"Average Instance cost J(I)      = \", cost)\n",
    "            print(\"Total Regularized Cost(J)       = \", total_cost, \"\\n\")\n",
    "        return total_cost\n",
    "    \n",
    "\n",
    "    # **** This is implemented using arrays, vector and matrix operations.\n",
    "    # **** For loops only used when iterating over hidden layers.\n",
    "    def back_prop(self, x, y):\n",
    "        z_layers = []\n",
    "        activations = [x]\n",
    "        a = np.append(1, x)\n",
    "\n",
    "        for layer in range(len(self.parameters)):\n",
    "            z = np.matmul(self.parameters[layer], a)\n",
    "            z_layers.append(z)\n",
    "            activations.append(self.sigmoid(z))\n",
    "            a = np.append(1, self.sigmoid(z))\n",
    "        \n",
    "        deltas = {}\n",
    "        delta = activations[-1] - y\n",
    "        deltas[len(self.parameters)] = delta\n",
    "        for layer in reversed(range(1, self.no_of_layers-1)):\n",
    "            deltas[layer] = np.matmul(deltas[layer+1], np.delete(self.parameters[layer], [0]*len(self.parameters[layer]), axis = 1)) * activations[layer] * (1 - activations[layer])\n",
    "        \n",
    "        if self.print:\n",
    "            print(\"-------------------Deltas of hidden and output layers--------------------\")\n",
    "            print(deltas, \"\\n\")\n",
    "            print(\"-------Gradients (not regularized) of network given a single input-------\")\n",
    "        gradients = []\n",
    "        for layer in range(self.no_of_layers-1):\n",
    "            gradient = np.array([np.append(1,activations[layer]),]*self.no_of_nodes[layer+1]) * np.array([deltas[layer+1],]*(1+self.no_of_nodes[layer])).transpose()\n",
    "            gradients.append(gradient)\n",
    "            if self.print:\n",
    "                print(gradient,\"\\n\")\n",
    "        return gradients\n",
    "    \n",
    "\n",
    "    def gradientDescent(self, dataset):\n",
    "        self.initiate_network()\n",
    "        #print(\"Initial cost (J)           = \", self.compute_cost(dataset))\n",
    "        #print()\n",
    "        for epoch in range(self.epochs):\n",
    "            self.update(dataset)\n",
    "            #if epoch % 100 == 0:\n",
    "            #    print(\"Epoch\", epoch, \": Cost (J) = \", self.compute_cost(dataset))\n",
    "        #print()\n",
    "        #print(\"Final cost (J)             = \", self.compute_cost(dataset))\n",
    "        #print(\"----------------------------------------------------------------------------\\n\")\n",
    "\n",
    "\n",
    "    def update(self, dataset):\n",
    "        gradients = []\n",
    "        for x, y in dataset:\n",
    "            gradients.append(self.back_prop(x, y))\n",
    "        \n",
    "        if self.print:\n",
    "            print(\"-------------------Gradients (regularized)-------------------\")\n",
    "        grad = gradients[0]\n",
    "        for j in range(len(grad)):\n",
    "            for i in range(1, len(gradients)):\n",
    "                grad[j] = grad[j] + gradients[i][j]\n",
    "            grad[j] = grad[j] / len(dataset)\n",
    "            grad[j][:,1:] = grad[j][:,1:] + ((self.reg_lambda * self.parameters[j][:,1:])/len(dataset))\n",
    "            if self.print:\n",
    "                print(grad[j],\"\\n\")\n",
    "\n",
    "        for layer in range(self.no_of_layers-1):\n",
    "            self.parameters[layer] = self.parameters[layer] - (self.learning_rate * grad[layer])\n",
    "    \n",
    "\n",
    "    # Calculates the performance (accuracy, f1 score) of the model on a dataset\n",
    "    def evaluate(self, dataset):\n",
    "        predicted = []\n",
    "        true = []\n",
    "        for x, y in dataset:\n",
    "            f = self.feed_forward(x)\n",
    "            f_index = np.argmax(f)\n",
    "            y_index = np.argmax(y)\n",
    "            true.append(y_index)\n",
    "            predicted.append(f_index)\n",
    "        \n",
    "        predicted_df = pd.DataFrame(predicted, columns=['majority'])\n",
    "        true_df = pd.DataFrame(true, columns=['target'])\n",
    "        x = pd.concat([predicted_df, true_df], axis = 1)\n",
    "\n",
    "        total = len(x)\n",
    "        acc = f1 = p = r = 0\n",
    "        for c in x.target.unique():\n",
    "            tp = len(x[(x.target == x.majority) & (x.target == c)])\n",
    "            tn = len(x[(x.target != c) & (x.majority != c)])\n",
    "            fn = len(x[(x.target == c) & (x.majority != x.target)])\n",
    "            fp = len(x[(x.majority == c) & (x.majority != x.target)])\n",
    "            acc += ((tp+tn)/total)\n",
    "            f1 += ((2*tp)/(2*tp+fn+fp))\n",
    "            p += (tp/(tp+fp))\n",
    "            r += (tp/(tp+fn))\n",
    "        return acc/x.target.nunique(), p/x.target.nunique(), r/x.target.nunique(), f1/x.target.nunique()"
   ]
  },
  {
   "cell_type": "code",
   "execution_count": 3,
   "id": "ec3e264e",
   "metadata": {},
   "outputs": [],
   "source": [
    "#transforming both datasets into neural network input format : tuple(x, y)\n",
    "#converting target values into OHE-HOT-ENCODING using pandas \"get_dummies\" function!\n",
    "def transform_datasets(train_df, test_df):\n",
    "    columns = list(train_df.columns)\n",
    "    columns.remove('target')\n",
    "\n",
    "    train_data = []\n",
    "    x = train_df[columns].to_numpy()\n",
    "    y = pd.get_dummies(train_df.target, prefix = 'class').to_numpy()\n",
    "    for i in range(len(x)):\n",
    "        train_data.append((list(x[i]), y[i]))\n",
    "\n",
    "    test_data = []\n",
    "    x = test_df[columns].to_numpy()\n",
    "    y = pd.get_dummies(test_df.target, prefix = 'class').to_numpy()\n",
    "    for i in range(len(x)):\n",
    "        test_data.append((list(x[i]), y[i]))\n",
    "    return train_data, test_data\n",
    "\n",
    "\n",
    "# I have set np.random.seed(42) to give same k-folds for all models.\n",
    "# This helps in identifying patterns clearly without dataset randomness.\n",
    "def get_crossValidation_datasets(K, dataset):\n",
    "    classes = dataset.target.unique()\n",
    "    k_folds = []\n",
    "    for cls in classes:\n",
    "        df_cls = dataset[dataset.target == cls]\n",
    "        np.random.seed(42)\n",
    "        k_folds.append(np.array_split(df_cls.reindex(np.random.permutation(df_cls.index)), K))\n",
    "    X_train = []\n",
    "    X_test = []\n",
    "    for k in range(K):\n",
    "        train = []\n",
    "        test = []\n",
    "        for fold in k_folds:\n",
    "            b = [x for i,x in enumerate(fold) if i != k]\n",
    "            c = [x for i,x in enumerate(fold) if i == k]\n",
    "            train.append(pd.concat(b))\n",
    "            test.append(pd.concat(c))\n",
    "        X_train.append(pd.concat(train))\n",
    "        X_test.append(pd.concat(test))\n",
    "    return X_train, X_test"
   ]
  },
  {
   "cell_type": "code",
   "execution_count": 10,
   "id": "26daf788",
   "metadata": {},
   "outputs": [],
   "source": [
    "def run(setup, lamda, epochs, alpha, train_df, test_df):\n",
    "    a = p = r = f = 0\n",
    "    for k in range(10):\n",
    "        train, test = transform_datasets(train_df[k], test_df[k])\n",
    "        nn = NeuralNetwork(len(setup), setup)\n",
    "        nn.reg_lambda = lamda\n",
    "        nn.learning_rate = alpha\n",
    "        nn.epochs = epochs\n",
    "        nn.gradientDescent(train)\n",
    "        acc, prec, rec, f1 = nn.evaluate(test)\n",
    "        a += acc\n",
    "        f += f1\n",
    "        p += prec\n",
    "        r += rec\n",
    "    return a/10, p/10, r/10, f/10"
   ]
  },
  {
   "cell_type": "code",
   "execution_count": 23,
   "id": "951fb8fe",
   "metadata": {},
   "outputs": [],
   "source": [
    "df = pd.read_csv('./data/loan.csv')\n",
    "df.rename(columns={\"Loan_Status\": \"target\"}, inplace = True)\n",
    "del df[\"Loan_ID\"]\n",
    "\n",
    "for col in df.columns:\n",
    "    n = df.columns.nunique()\n",
    "    if n < (len(df)/2):\n",
    "        df[col] = df[col].astype('category').cat.codes\n",
    "\n",
    "df = (df - df.min())/(df.max() - df.min())\n",
    "df.fillna(0)\n",
    "train_df, test_df = get_crossValidation_datasets(10, df)"
   ]
  },
  {
   "cell_type": "code",
   "execution_count": 28,
   "id": "e9de2b2c",
   "metadata": {},
   "outputs": [
    {
     "data": {
      "text/plain": [
       "(0.8063911202778984,\n",
       " 0.8506639237424831,\n",
       " 0.7014947797300739,\n",
       " 0.7223098196720488)"
      ]
     },
     "execution_count": 28,
     "metadata": {},
     "output_type": "execute_result"
    }
   ],
   "source": [
    "run([11,5,2], 0.25, 300, 1, train_df, test_df)"
   ]
  },
  {
   "cell_type": "code",
   "execution_count": 29,
   "id": "0d41ade1",
   "metadata": {},
   "outputs": [
    {
     "data": {
      "text/plain": [
       "(0.8042634607034304,\n",
       " 0.8475692243242543,\n",
       " 0.6999796282149223,\n",
       " 0.7201937034207262)"
      ]
     },
     "execution_count": 29,
     "metadata": {},
     "output_type": "execute_result"
    }
   ],
   "source": [
    "run([11,8,2], 0.25, 300, 1, train_df, test_df)"
   ]
  },
  {
   "cell_type": "code",
   "execution_count": 31,
   "id": "3304b6fa",
   "metadata": {},
   "outputs": [
    {
     "data": {
      "text/plain": [
       "(0.8085187798523666,\n",
       " 0.8542714273499866,\n",
       " 0.7030099312452254,\n",
       " 0.7245043242297247)"
      ]
     },
     "execution_count": 31,
     "metadata": {},
     "output_type": "execute_result"
    }
   ],
   "source": [
    "run([11,8,2], 0.1, 400, 1, train_df, test_df)"
   ]
  },
  {
   "cell_type": "code",
   "execution_count": 32,
   "id": "f6f2b628",
   "metadata": {},
   "outputs": [
    {
     "data": {
      "text/plain": [
       "(0.8000967940367637,\n",
       " 0.8249036312533944,\n",
       " 0.7028800611153552,\n",
       " 0.7197270479875717)"
      ]
     },
     "execution_count": 32,
     "metadata": {},
     "output_type": "execute_result"
    }
   ],
   "source": [
    "run([11,4,4,2], 0.1, 400, 1.5, train_df, test_df)"
   ]
  },
  {
   "cell_type": "code",
   "execution_count": 35,
   "id": "47f43ebc",
   "metadata": {},
   "outputs": [
    {
     "data": {
      "text/plain": [
       "(0.8085187798523666,\n",
       " 0.8542714273499866,\n",
       " 0.7030099312452254,\n",
       " 0.7245043242297247)"
      ]
     },
     "execution_count": 35,
     "metadata": {},
     "output_type": "execute_result"
    }
   ],
   "source": [
    "run([11,8,2], 0.5, 400, 1, train_df, test_df)"
   ]
  },
  {
   "cell_type": "code",
   "execution_count": 36,
   "id": "b4f48b1e",
   "metadata": {},
   "outputs": [
    {
     "data": {
      "text/plain": [
       "(0.8043077869445652,\n",
       " 0.8420537354811322,\n",
       " 0.6999796282149224,\n",
       " 0.7203649575166603)"
      ]
     },
     "execution_count": 36,
     "metadata": {},
     "output_type": "execute_result"
    }
   ],
   "source": [
    "run([11,8,8,2], 0.1, 400, 1, train_df, test_df)"
   ]
  },
  {
   "cell_type": "code",
   "execution_count": 37,
   "id": "09fafabf",
   "metadata": {},
   "outputs": [
    {
     "data": {
      "text/plain": [
       "(0.8022226443768996,\n",
       " 0.8413399884438556,\n",
       " 0.6985090399796282,\n",
       " 0.7183595726392269)"
      ]
     },
     "execution_count": 37,
     "metadata": {},
     "output_type": "execute_result"
    }
   ],
   "source": [
    "run([11,8,4,2], 0.25, 300, 1, train_df, test_df)"
   ]
  },
  {
   "cell_type": "code",
   "execution_count": 38,
   "id": "e3015b3d",
   "metadata": {},
   "outputs": [
    {
     "data": {
      "text/plain": [
       "(0.8043521131856999, 0.8408920753255693, 0.6999796282149223, 0.720775318300913)"
      ]
     },
     "execution_count": 38,
     "metadata": {},
     "output_type": "execute_result"
    }
   ],
   "source": [
    "run([11,8,8,4,2], 0.25, 300, 1, train_df, test_df)"
   ]
  },
  {
   "cell_type": "code",
   "execution_count": null,
   "id": "be34ea5b",
   "metadata": {},
   "outputs": [],
   "source": []
  },
  {
   "cell_type": "code",
   "execution_count": 40,
   "id": "43142349",
   "metadata": {},
   "outputs": [],
   "source": [
    "df = pd.read_csv('./data/titanic.csv')\n",
    "df.rename(columns={\"Survived\": \"target\"}, inplace = True)\n",
    "del df[\"Name\"]\n",
    "\n",
    "for col in df.columns:\n",
    "    n = df.columns.nunique()\n",
    "    if n < (len(df)/2):\n",
    "        df[col] = df[col].astype('category').cat.codes\n",
    "\n",
    "df = (df - df.min())/(df.max() - df.min())\n",
    "df.fillna(0)\n",
    "train_df_titanic, test_df_titanic = get_crossValidation_datasets(10, df)"
   ]
  },
  {
   "cell_type": "code",
   "execution_count": 44,
   "id": "95b088a6",
   "metadata": {},
   "outputs": [
    {
     "name": "stdout",
     "output_type": "stream",
     "text": [
      "(0.7960569174895019, 0.794196553827175, 0.7733797357326769, 0.7790106462150204)\n",
      "----------------------------------------------------------------------\n",
      "(0.8005896039042106, 0.8000472830424297, 0.7771086212262681, 0.7833392472649382)\n",
      "----------------------------------------------------------------------\n",
      "(0.7993136420383611, 0.8021629079481294, 0.7689505701270407, 0.7764701504997138)\n",
      "----------------------------------------------------------------------\n",
      "(0.8073697650663941, 0.8097135804163459, 0.7814738420620773, 0.7888831009983306)\n",
      "----------------------------------------------------------------------\n"
     ]
    }
   ],
   "source": [
    "print(run([6,3,2], 0.5, 300, 1, train_df_titanic, test_df_titanic))\n",
    "print(\"----------------------------------------------------------------------\")\n",
    "print(run([6,4,2], 0.5, 300, 1, train_df_titanic, test_df_titanic))\n",
    "print(\"----------------------------------------------------------------------\")\n",
    "print(run([6,3,3,2], 0.5, 300, 1, train_df_titanic, test_df_titanic))\n",
    "print(\"----------------------------------------------------------------------\")\n",
    "print(run([6,4,4,2], 0.5, 300, 1, train_df_titanic, test_df_titanic))\n",
    "print(\"----------------------------------------------------------------------\")"
   ]
  },
  {
   "cell_type": "code",
   "execution_count": 46,
   "id": "dc478e9c",
   "metadata": {},
   "outputs": [
    {
     "name": "stdout",
     "output_type": "stream",
     "text": [
      "(0.8050593008739076, 0.8059120672400718, 0.7795799734035027, 0.7867114136468805)\n",
      "----------------------------------------------------------------------\n",
      "(0.8095284303711271, 0.8120124079984125, 0.7832835356364767, 0.791072214887439)\n"
     ]
    }
   ],
   "source": [
    "print(run([6,4,2], 0.25, 400, 1, train_df_titanic, test_df_titanic))\n",
    "print(\"----------------------------------------------------------------------\")\n",
    "print(run([6,4,4,2], 0.25, 400, 1, train_df_titanic, test_df_titanic))"
   ]
  },
  {
   "cell_type": "code",
   "execution_count": 6,
   "id": "a5ad9cde",
   "metadata": {},
   "outputs": [
    {
     "name": "stdout",
     "output_type": "stream",
     "text": [
      "Epoch size :  797\n"
     ]
    },
    {
     "data": {
      "image/png": "[encoded data removed]",
      "text/plain": [
       "<Figure size 432x288 with 1 Axes>"
      ]
     },
     "metadata": {
      "needs_background": "light"
     },
     "output_type": "display_data"
    }
   ],
   "source": [
    "df = pd.read_csv('./data/titanic.csv')\n",
    "df.rename(columns={\"Survived\": \"target\"}, inplace = True)\n",
    "del df[\"Name\"]\n",
    "\n",
    "for col in df.columns:\n",
    "    n = df.columns.nunique()\n",
    "    if n < (len(df)/2):\n",
    "        df[col] = df[col].astype('category').cat.codes\n",
    "\n",
    "df = (df - df.min())/(df.max() - df.min())\n",
    "df.fillna(0)\n",
    "\n",
    "x = []\n",
    "y = []\n",
    "train_df, test_df = get_crossValidation_datasets(10, df)\n",
    "for k in range(10):\n",
    "    train, test = transform_datasets(train_df[k], test_df[k])\n",
    "    nn1 = NeuralNetwork(4, [6,4,4,2])\n",
    "    nn1.reg_lambda = 0.25\n",
    "    nn1.epochs = 400\n",
    "    nn1.learning_rate = 1.0\n",
    "\n",
    "    size = len(train)\n",
    "    print(\"Epoch size : \", size)\n",
    "    \n",
    "    epochs = 1\n",
    "    while epochs <= 400:\n",
    "        nn1.update(train)\n",
    "        x.append(epochs)\n",
    "        y.append(nn1.compute_cost(test))\n",
    "        epochs = epochs + 1\n",
    "    break\n",
    "\n",
    "plt.plot(x,y)\n",
    "plt.xlabel(\"epochs\")\n",
    "plt.ylabel(\"Cost (J)\")\n",
    "plt.title('Titanic ([4,4], 0.25, alpha:1)')\n",
    "plt.show()"
   ]
  },
  {
   "cell_type": "code",
   "execution_count": 7,
   "id": "05338b8d",
   "metadata": {},
   "outputs": [
    {
     "name": "stdout",
     "output_type": "stream",
     "text": [
      "Epoch size :  431\n"
     ]
    },
    {
     "data": {
      "image/png": "[encoded data removed]",
      "text/plain": [
       "<Figure size 432x288 with 1 Axes>"
      ]
     },
     "metadata": {
      "needs_background": "light"
     },
     "output_type": "display_data"
    }
   ],
   "source": [
    "df = pd.read_csv('./data/loan.csv')\n",
    "df.rename(columns={\"Loan_Status\": \"target\"}, inplace = True)\n",
    "del df[\"Loan_ID\"]\n",
    "\n",
    "for col in df.columns:\n",
    "    n = df.columns.nunique()\n",
    "    if n < (len(df)/2):\n",
    "        df[col] = df[col].astype('category').cat.codes\n",
    "\n",
    "df = (df - df.min())/(df.max() - df.min())\n",
    "df.fillna(0)\n",
    "x = []\n",
    "y = []\n",
    "train_df, test_df = get_crossValidation_datasets(10, df)\n",
    "for k in range(10):\n",
    "    train, test = transform_datasets(train_df[k], test_df[k])\n",
    "    nn1 = NeuralNetwork(3, [11,8,2])\n",
    "    nn1.reg_lambda = 0.5\n",
    "    nn1.epochs = 400\n",
    "    nn1.learning_rate = 1.0\n",
    "\n",
    "    size = len(train)\n",
    "    print(\"Epoch size : \", size)\n",
    "    \n",
    "    epochs = 1\n",
    "    while epochs <= 400:\n",
    "        nn1.update(train)\n",
    "        x.append(epochs)\n",
    "        y.append(nn1.compute_cost(test))\n",
    "        epochs = epochs + 1\n",
    "    break\n",
    "\n",
    "plt.plot(x,y)\n",
    "plt.xlabel(\"epochs\")\n",
    "plt.ylabel(\"Cost (J)\")\n",
    "plt.title('Loan ([8], 0.5, alpha:1)')\n",
    "plt.show()"
   ]
  }
 ],
 "metadata": {
  "kernelspec": {
   "display_name": "Python 3",
   "language": "python",
   "name": "python3"
  },
  "language_info": {
   "codemirror_mode": {
    "name": "ipython",
    "version": 3
   },
   "file_extension": ".py",
   "mimetype": "text/x-python",
   "name": "python",
   "nbconvert_exporter": "python",
   "pygments_lexer": "ipython3",
   "version": "3.8.8"
  }
 },
 "nbformat": 4,
 "nbformat_minor": 5
}
