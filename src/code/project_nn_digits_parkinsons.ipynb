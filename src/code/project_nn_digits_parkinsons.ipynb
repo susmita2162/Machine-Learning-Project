{
 "cells": [
  {
   "cell_type": "code",
   "execution_count": 1,
   "id": "12a6f4b7",
   "metadata": {},
   "outputs": [],
   "source": [
    "import numpy as np\n",
    "import pandas as pd\n",
    "from sklearn import datasets\n",
    "from nn import NeuralNetwork as NeuralNet\n",
    "from matplotlib import pyplot as plt\n",
    "from my_utils import get_crossValidation_datasets, transform_datasets"
   ]
  },
  {
   "cell_type": "code",
   "execution_count": 2,
   "id": "02ea3947",
   "metadata": {},
   "outputs": [],
   "source": [
    "digits = datasets.load_digits()\n",
    "\n",
    "n_samples = len(digits.images)\n",
    "data = digits.images.reshape((n_samples, -1))\n",
    "labels = digits.target\n",
    "cols = digits.feature_names\n",
    "\n",
    "data_df = pd.DataFrame(data, columns = cols)\n",
    "labels_df = pd.DataFrame(labels, columns = ['target'])\n",
    "\n",
    "dataset = pd.concat([data_df, labels_df], axis = 1)\n",
    "dataset[cols] = (dataset[cols] - dataset[cols].min())/(dataset[cols].max() - dataset[cols].min())\n",
    "dataset.fillna(0, inplace=True)\n",
    "\n",
    "X_train, X_test = get_crossValidation_datasets(10, dataset)"
   ]
  },
  {
   "cell_type": "code",
   "execution_count": 3,
   "id": "80322c09",
   "metadata": {},
   "outputs": [],
   "source": [
    "def run_nn(setup, lamda, epochs, alpha, X_train, X_test):\n",
    "    a = f = p = r = 0\n",
    "    for k in range(10):\n",
    "        train, test = transform_datasets(X_train[k], X_test[k])\n",
    "        nn = NeuralNet(len(setup), setup)\n",
    "        nn.reg_lambda = lamda\n",
    "        nn.learning_rate = alpha\n",
    "        nn.epochs = epochs\n",
    "        nn.gradientDescent(train)\n",
    "        accuracy, precision, recall, f1 = nn.evaluate(test)\n",
    "        a += accuracy\n",
    "        p += precision\n",
    "        r += recall\n",
    "        f += f1\n",
    "    print(\"Average accuracy    = \", a/10)\n",
    "    print(\"Average precision   = \", p/10)\n",
    "    print(\"Average recall      = \", r/10)\n",
    "    print(\"Average F1 score    = \", f/10)"
   ]
  },
  {
   "cell_type": "code",
   "execution_count": 12,
   "id": "4e846143",
   "metadata": {},
   "outputs": [
    {
     "name": "stdout",
     "output_type": "stream",
     "text": [
      "Average accuracy    =  0.967808407844027\n",
      "Average precision   =  0.8593025097206386\n",
      "Average recall      =  0.8390419676642586\n",
      "Average F1 score    =  0.8279434777282166\n"
     ]
    }
   ],
   "source": [
    "run_nn([64,8,10], 0.25, 300, 1, X_train, X_test)"
   ]
  },
  {
   "cell_type": "code",
   "execution_count": 13,
   "id": "313cdeee",
   "metadata": {},
   "outputs": [
    {
     "name": "stdout",
     "output_type": "stream",
     "text": [
      "Average accuracy    =  0.9844104528511757\n",
      "Average precision   =  0.9243937523175141\n",
      "Average recall      =  0.9218249054007568\n",
      "Average F1 score    =  0.9213159575444478\n"
     ]
    }
   ],
   "source": [
    "run_nn([64,16,10], 0.25, 300, 1, X_train, X_test)"
   ]
  },
  {
   "cell_type": "code",
   "execution_count": 14,
   "id": "4fa5ddf8",
   "metadata": {},
   "outputs": [
    {
     "name": "stdout",
     "output_type": "stream",
     "text": [
      "Average accuracy    =  0.9682862454115531\n",
      "Average precision   =  0.8387383627854923\n",
      "Average recall      =  0.8403525971792225\n",
      "Average F1 score    =  0.8317172151847124\n"
     ]
    }
   ],
   "source": [
    "run_nn([64,8,8,10], 0.25, 300, 1, X_train, X_test)"
   ]
  },
  {
   "cell_type": "code",
   "execution_count": 15,
   "id": "a56faad2",
   "metadata": {},
   "outputs": [
    {
     "name": "stdout",
     "output_type": "stream",
     "text": [
      "Average accuracy    =  0.9742938753434249\n",
      "Average precision   =  0.8824074132314642\n",
      "Average recall      =  0.8706381148950809\n",
      "Average F1 score    =  0.8633197898366587\n"
     ]
    }
   ],
   "source": [
    "run_nn([64,16,8,10], 0.25, 300, 1, X_train, X_test)"
   ]
  },
  {
   "cell_type": "code",
   "execution_count": 16,
   "id": "e839d0c7",
   "metadata": {},
   "outputs": [
    {
     "name": "stdout",
     "output_type": "stream",
     "text": [
      "Average accuracy    =  0.9872109633048881\n",
      "Average precision   =  0.9383169057894291\n",
      "Average recall      =  0.9358634330925353\n",
      "Average F1 score    =  0.9357063911471807\n"
     ]
    }
   ],
   "source": [
    "run_nn([64,16,16,10], 0.25, 400, 1, X_train, X_test)"
   ]
  },
  {
   "cell_type": "code",
   "execution_count": 17,
   "id": "3e865a56",
   "metadata": {},
   "outputs": [
    {
     "name": "stdout",
     "output_type": "stream",
     "text": [
      "Average accuracy    =  0.9613186557342287\n",
      "Average precision   =  0.8085573001024441\n",
      "Average recall      =  0.80546783625731\n",
      "Average F1 score    =  0.7890844809173757\n"
     ]
    }
   ],
   "source": [
    "run_nn([64,8,8,8,10], 0.25, 400, 1, X_train, X_test)"
   ]
  },
  {
   "cell_type": "code",
   "execution_count": 18,
   "id": "7b72badd",
   "metadata": {},
   "outputs": [
    {
     "name": "stdout",
     "output_type": "stream",
     "text": [
      "Average accuracy    =  0.9663995558290199\n",
      "Average precision   =  0.8434996335826396\n",
      "Average recall      =  0.83109391124871\n",
      "Average F1 score    =  0.8234082998957041\n"
     ]
    }
   ],
   "source": [
    "run_nn([64,16,8,8,10], 0.25, 400, 1, X_train, X_test)"
   ]
  },
  {
   "cell_type": "code",
   "execution_count": 4,
   "id": "181cebc7",
   "metadata": {},
   "outputs": [
    {
     "name": "stdout",
     "output_type": "stream",
     "text": [
      "Average accuracy    =  0.9712952344248797\n",
      "Average precision   =  0.8560801330371965\n",
      "Average recall      =  0.8551702786377711\n",
      "Average F1 score    =  0.8440080985862413\n"
     ]
    }
   ],
   "source": [
    "run_nn([64,8,10], 0.1, 300, 1, X_train, X_test)"
   ]
  },
  {
   "cell_type": "code",
   "execution_count": 5,
   "id": "5052fe79",
   "metadata": {},
   "outputs": [
    {
     "name": "stdout",
     "output_type": "stream",
     "text": [
      "Average accuracy    =  0.9871900932732818\n",
      "Average precision   =  0.9378526312438851\n",
      "Average recall      =  0.9356191950464396\n",
      "Average F1 score    =  0.9352537418059865\n"
     ]
    }
   ],
   "source": [
    "run_nn([64,16,10], 0.1, 300, 1, X_train, X_test)"
   ]
  },
  {
   "cell_type": "code",
   "execution_count": 6,
   "id": "bd4d9af8",
   "metadata": {},
   "outputs": [
    {
     "name": "stdout",
     "output_type": "stream",
     "text": [
      "Average accuracy    =  0.989985003668755\n",
      "Average precision   =  0.9523546700977041\n",
      "Average recall      =  0.9496456828345374\n",
      "Average F1 score    =  0.94950621133281\n"
     ]
    }
   ],
   "source": [
    "run_nn([64,16,10], 0.1, 400, 1, X_train, X_test)"
   ]
  },
  {
   "cell_type": "code",
   "execution_count": null,
   "id": "dcff3add",
   "metadata": {},
   "outputs": [],
   "source": []
  },
  {
   "cell_type": "code",
   "execution_count": 24,
   "id": "fa20b093",
   "metadata": {},
   "outputs": [],
   "source": [
    "df = pd.read_csv('./data/parkinsons.csv')\n",
    "df.rename(columns={\"Diagnosis\":\"target\"}, inplace=True)\n",
    "df = (df-df.min())/(df.max()-df.min())\n",
    "df.fillna(0, inplace=True)\n",
    "\n",
    "X_train_p, X_test_p = get_crossValidation_datasets(10, df)"
   ]
  },
  {
   "cell_type": "code",
   "execution_count": 27,
   "id": "94a70fb4",
   "metadata": {},
   "outputs": [
    {
     "name": "stdout",
     "output_type": "stream",
     "text": [
      "Average accuracy    =  0.8616959064327483\n",
      "Average precision   =  0.8463795518207282\n",
      "Average recall      =  0.7686904761904761\n",
      "Average F1 score    =  0.7923683451791071\n",
      "-------------------------------------------------------\n",
      "Average accuracy    =  0.8616959064327483\n",
      "Average precision   =  0.8463795518207282\n",
      "Average recall      =  0.7686904761904761\n",
      "Average F1 score    =  0.7923683451791071\n",
      "-------------------------------------------------------\n",
      "Average accuracy    =  0.8616959064327483\n",
      "Average precision   =  0.8549474789915965\n",
      "Average recall      =  0.7686904761904761\n",
      "Average F1 score    =  0.7928632583582529\n",
      "-------------------------------------------------------\n",
      "Average accuracy    =  0.8200292397660819\n",
      "Average precision   =  0.7954718527086948\n",
      "Average recall      =  0.734642857142857\n",
      "Average F1 score    =  0.7440999228475509\n",
      "-------------------------------------------------------\n",
      "Average accuracy    =  0.8622514619883042\n",
      "Average precision   =  0.8869580625772576\n",
      "Average recall      =  0.7622619047619048\n",
      "Average F1 score    =  0.7830631986336855\n"
     ]
    }
   ],
   "source": [
    "run_nn([22,8,2], 0.25, 360, 1, X_train_p, X_test_p)\n",
    "print(\"-------------------------------------------------------\")\n",
    "run_nn([22,16,2], 0.25, 360, 1, X_train_p, X_test_p)\n",
    "print(\"-------------------------------------------------------\")\n",
    "run_nn([22,8,8,2], 0.25, 360, 1, X_train_p, X_test_p)\n",
    "print(\"-------------------------------------------------------\")\n",
    "run_nn([22,16,8,2], 0.25, 360, 1, X_train_p, X_test_p)\n",
    "print(\"-------------------------------------------------------\")\n",
    "run_nn([22,16,8,4,2], 0.25, 360, 1, X_train_p, X_test_p)"
   ]
  },
  {
   "cell_type": "code",
   "execution_count": 28,
   "id": "13030297",
   "metadata": {},
   "outputs": [
    {
     "name": "stdout",
     "output_type": "stream",
     "text": [
      "Average accuracy    =  0.8472514619883041\n",
      "Average precision   =  0.8610388102609464\n",
      "Average recall      =  0.7433333333333334\n",
      "Average F1 score    =  0.7642135358289337\n"
     ]
    }
   ],
   "source": [
    "run_nn([22,16,8,4,2], 0.25, 400, 1, X_train_p, X_test_p)"
   ]
  },
  {
   "cell_type": "code",
   "execution_count": 13,
   "id": "9b34b817",
   "metadata": {},
   "outputs": [
    {
     "name": "stdout",
     "output_type": "stream",
     "text": [
      "Epoch size :  175\n"
     ]
    }
   ],
   "source": [
    "df = pd.read_csv('./data/parkinsons.csv')\n",
    "df.rename(columns={\"Diagnosis\":\"target\"}, inplace=True)\n",
    "df = (df-df.min())/(df.max()-df.min())\n",
    "df.fillna(0, inplace=True)\n",
    "\n",
    "x = []\n",
    "y = []\n",
    "train_df, test_df = get_crossValidation_datasets(10, df)\n",
    "for k in range(10):\n",
    "    train, test = transform_datasets(train_df[k], test_df[k])\n",
    "    nn1 = NeuralNet(4, [22,8,8,2])\n",
    "    nn1.reg_lambda = 0.25\n",
    "    nn1.epochs = 360\n",
    "    nn1.learning_rate = 1.0\n",
    "\n",
    "    size = len(train)\n",
    "    print(\"Epoch size : \", size)\n",
    "    \n",
    "    epochs = 1\n",
    "    while epochs <= 360:\n",
    "        nn1.update(train)\n",
    "        x.append(epochs)\n",
    "        y.append(nn1.compute_cost(test))\n",
    "        epochs = epochs + 1\n",
    "    break"
   ]
  },
  {
   "cell_type": "code",
   "execution_count": 17,
   "id": "a8c34bcd",
   "metadata": {},
   "outputs": [
    {
     "data": {
      "image/png": "[encoded data removed]",
      "text/plain": [
       "<Figure size 432x288 with 1 Axes>"
      ]
     },
     "metadata": {
      "needs_background": "light"
     },
     "output_type": "display_data"
    }
   ],
   "source": [
    "plt.plot(x,y)\n",
    "plt.xlabel(\"epochs\")\n",
    "plt.ylabel(\"Cost (J)\")\n",
    "plt.title('Parkinsons ([8,8],0.25, alpha:1)')\n",
    "plt.show()"
   ]
  },
  {
   "cell_type": "code",
   "execution_count": 18,
   "id": "b03bc00d",
   "metadata": {},
   "outputs": [
    {
     "name": "stdout",
     "output_type": "stream",
     "text": [
      "Epoch size :  1612\n"
     ]
    },
    {
     "data": {
      "image/png": "[encoded data removed]",
      "text/plain": [
       "<Figure size 432x288 with 1 Axes>"
      ]
     },
     "metadata": {
      "needs_background": "light"
     },
     "output_type": "display_data"
    }
   ],
   "source": [
    "digits = datasets.load_digits()\n",
    "\n",
    "n_samples = len(digits.images)\n",
    "data = digits.images.reshape((n_samples, -1))\n",
    "labels = digits.target\n",
    "cols = digits.feature_names\n",
    "\n",
    "data_df = pd.DataFrame(data, columns = cols)\n",
    "labels_df = pd.DataFrame(labels, columns = ['target'])\n",
    "\n",
    "dataset = pd.concat([data_df, labels_df], axis = 1)\n",
    "dataset[cols] = (dataset[cols] - dataset[cols].min())/(dataset[cols].max() - dataset[cols].min())\n",
    "dataset.fillna(0, inplace=True)\n",
    "\n",
    "x = []\n",
    "y = []\n",
    "train_df, test_df = get_crossValidation_datasets(10, dataset)\n",
    "for k in range(10):\n",
    "    train, test = transform_datasets(train_df[k], test_df[k])\n",
    "    nn1 = NeuralNet(3, [64,16,10])\n",
    "    nn1.reg_lambda = 0.1\n",
    "    nn1.epochs = 400\n",
    "    nn1.learning_rate = 1.0\n",
    "\n",
    "    size = len(train)\n",
    "    print(\"Epoch size : \", size)\n",
    "    \n",
    "    epochs = 1\n",
    "    while epochs <= 400:\n",
    "        nn1.update(train)\n",
    "        x.append(epochs)\n",
    "        y.append(nn1.compute_cost(test))\n",
    "        epochs = epochs + 1\n",
    "    break\n",
    "\n",
    "plt.plot(x,y)\n",
    "plt.xlabel(\"epochs\")\n",
    "plt.ylabel(\"Cost (J)\")\n",
    "plt.title('Digits ([16], 0.1, alpha:1)')\n",
    "plt.show()"
   ]
  }
 ],
 "metadata": {
  "kernelspec": {
   "display_name": "Python 3",
   "language": "python",
   "name": "python3"
  },
  "language_info": {
   "codemirror_mode": {
    "name": "ipython",
    "version": 3
   },
   "file_extension": ".py",
   "mimetype": "text/x-python",
   "name": "python",
   "nbconvert_exporter": "python",
   "pygments_lexer": "ipython3",
   "version": "3.8.8"
  }
 },
 "nbformat": 4,
 "nbformat_minor": 5
}
